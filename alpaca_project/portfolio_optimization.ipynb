{
 "cells": [
  {
   "cell_type": "code",
   "execution_count": null,
   "metadata": {},
   "outputs": [],
   "source": [
    "# Description: This program attempts to optimize a users portfolio using the Efficient Frontier & Python.\n",
    "# (original script in code bookmarked folder)"
   ]
  },
  {
   "cell_type": "code",
   "execution_count": 8,
   "metadata": {},
   "outputs": [],
   "source": [
    "# Import the Python libraries\n",
    "\n",
    "from pandas_datareader import data as web\n",
    "import pandas as pd\n",
    "import numpy as np\n",
    "from datetime import datetime\n",
    "import matplotlib.pyplot as plt\n",
    "plt.style.use('fivethirtyeight')\n"
   ]
  },
  {
   "cell_type": "code",
   "execution_count": 9,
   "metadata": {},
   "outputs": [],
   "source": [
    "# Create the fictional portfolio\n",
    "\n",
    "assets =  [\"FB\", \"AMZN\", \"AAPL\", \"NFLX\", \"GOOG\"]"
   ]
  },
  {
   "cell_type": "code",
   "execution_count": 10,
   "metadata": {
    "collapsed": true,
    "jupyter": {
     "outputs_hidden": true
    }
   },
   "outputs": [
    {
     "data": {
      "text/plain": [
       "array([0.2, 0.2, 0.2, 0.2, 0.2])"
      ]
     },
     "execution_count": 10,
     "metadata": {},
     "output_type": "execute_result"
    }
   ],
   "source": [
    "# Assign weights to the stocks. Weights must = 1 so 0.2 for each\n",
    "weights = np.array([0.2, 0.2, 0.2, 0.2, 0.2])\n",
    "weights"
   ]
  },
  {
   "cell_type": "code",
   "execution_count": 11,
   "metadata": {},
   "outputs": [],
   "source": [
    "#Get the stock starting date\n",
    "stockStartDate = '2013-01-01'\n",
    "\n",
    "# Get the stocks ending date aka todays date and format it in the form YYYY-MM-DD\n",
    "today = datetime.today().strftime('%Y-%m-%d')"
   ]
  },
  {
   "cell_type": "code",
   "execution_count": null,
   "metadata": {},
   "outputs": [],
   "source": [
    "#Create a dataframe to store the adjusted close price of the stocks\n",
    "df = pd.DataFrame()\n",
    "\n",
    "#Store the adjusted close price of stock into the data frame\n",
    "for stock in assets:\n",
    "    df[stock] = web.DataReader(stock,data_source='yahoo',start=stockStartDate , end=today)['Adj Close']"
   ]
  },
  {
   "cell_type": "code",
   "execution_count": null,
   "metadata": {},
   "outputs": [],
   "source": [
    "#Show the data frame and the adjusted close price of each stock\n",
    "df"
   ]
  },
  {
   "cell_type": "code",
   "execution_count": null,
   "metadata": {},
   "outputs": [],
   "source": [
    "#Visually show stock prices\n",
    "# Create the title 'Portfolio Adj Close Price History\n",
    "title = 'Portfolio Adj. Close Price History    '\n",
    "#Get the stocks\n",
    "my_stocks = df\n",
    "#Create and plot the graph\n",
    "plt.figure(figsize=(12.2,4.5)) #width = 12.2in, height = 4.5\n",
    "# Loop through each stock and plot the Adj Close for each day\n",
    "for c in my_stocks.columns.values:\n",
    "  plt.plot( my_stocks[c],  label=c)#plt.plot( X-Axis , Y-Axis, line_width, alpha_for_blending,  label)\n",
    "plt.title(title)\n",
    "plt.xlabel('Date',fontsize=18)\n",
    "plt.ylabel('Adj. Price USD ($)',fontsize=18)\n",
    "plt.legend(my_stocks.columns.values, loc='upper left')\n",
    "plt.show()"
   ]
  },
  {
   "cell_type": "code",
   "execution_count": null,
   "metadata": {},
   "outputs": [],
   "source": [
    "#Show the daily simple returns, NOTE: Formula = new_price/old_price - 1\n",
    "\n",
    "returns = df.pct_change()\n",
    "returns"
   ]
  },
  {
   "cell_type": "code",
   "execution_count": null,
   "metadata": {},
   "outputs": [],
   "source": [
    "cov_matrix_annual = returns.cov() * 252\n",
    "cov_matrix_annual"
   ]
  },
  {
   "cell_type": "code",
   "execution_count": null,
   "metadata": {},
   "outputs": [],
   "source": [
    "#Calculate portfolio variance\n",
    "\n",
    "port_variance = np.dot(weights.T, np.dot(cov_matrix_annual, weights))\n",
    "port_variance"
   ]
  },
  {
   "cell_type": "code",
   "execution_count": null,
   "metadata": {},
   "outputs": [],
   "source": [
    "#Calculate portfolio volatility\n",
    "\n",
    "port_volatility = np.sqrt(port_variance)\n",
    "port_volatility"
   ]
  },
  {
   "cell_type": "code",
   "execution_count": null,
   "metadata": {},
   "outputs": [],
   "source": [
    "portfolioSimpleAnnualReturn = np.sum(returns.mean()*weights) * 252\n",
    "portfolioSimpleAnnualReturn"
   ]
  },
  {
   "cell_type": "code",
   "execution_count": null,
   "metadata": {},
   "outputs": [],
   "source": [
    "percent_var = str(round(port_variance, 2) * 100) + '%'\n",
    "percent_vols = str(round(port_volatility, 2) * 100) + '%'\n",
    "percent_ret = str(round(portfolioSimpleAnnualReturn, 2)*100)+'%'\n",
    "print(\"Expected annual return : \"+ percent_ret)\n",
    "print('Annual volatility/standard deviation/risk : '+percent_vols)\n",
    "print('Annual variance : '+percent_var)"
   ]
  },
  {
   "cell_type": "markdown",
   "metadata": {},
   "source": [
    "## Optimimize the Portfolio\n",
    "#use the package pyportfolioopt"
   ]
  },
  {
   "cell_type": "code",
   "execution_count": null,
   "metadata": {},
   "outputs": [],
   "source": [
    "#Import the libraries for optimization\n",
    "\n",
    "from pypfopt.efficient_frontier import EfficientFrontier\n",
    "from pypfopt import risk_models\n",
    "from pypfopt import expected_returns"
   ]
  },
  {
   "cell_type": "code",
   "execution_count": null,
   "metadata": {},
   "outputs": [],
   "source": [
    "#Calculate the expected returns and the annualised sample covariance matrix of daily asset returns.\n",
    "\n",
    "mu = expected_returns.mean_historical_return(df)#returns.mean() * 252\n",
    "S = risk_models.sample_cov(df) #Get the sample covariance matrix"
   ]
  },
  {
   "cell_type": "code",
   "execution_count": null,
   "metadata": {},
   "outputs": [],
   "source": [
    "#Optimize for maximal Sharpe ration\n",
    "\n",
    "ef = EfficientFrontier(mu, S)\n",
    "weights = ef.max_sharpe() #Maximize the Sharpe ratio, and get the raw weights\n",
    "cleaned_weights = ef.clean_weights() \n",
    "print(cleaned_weights) #Note the weights may have some rounding error, meaning they may not add up exactly to 1 but should be close\n",
    "ef.portfolio_performance(verbose=True)"
   ]
  },
  {
   "cell_type": "code",
   "execution_count": null,
   "metadata": {},
   "outputs": [],
   "source": []
  }
 ],
 "metadata": {
  "kernelspec": {
   "display_name": "Python 3",
   "language": "python",
   "name": "python3"
  },
  "language_info": {
   "codemirror_mode": {
    "name": "ipython",
    "version": 3
   },
   "file_extension": ".py",
   "mimetype": "text/x-python",
   "name": "python",
   "nbconvert_exporter": "python",
   "pygments_lexer": "ipython3",
   "version": "3.7.4"
  }
 },
 "nbformat": 4,
 "nbformat_minor": 4
}
